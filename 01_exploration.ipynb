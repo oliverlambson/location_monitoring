{
 "cells": [
  {
   "cell_type": "code",
   "execution_count": null,
   "id": "optimum-database",
   "metadata": {},
   "outputs": [],
   "source": [
    "import datetime as dt\n",
    "import json\n",
    "from pprint import pprint\n",
    "\n",
    "import pandas as pd\n",
    "import requests\n",
    "\n",
    "import config"
   ]
  },
  {
   "cell_type": "code",
   "execution_count": null,
   "id": "orange-retro",
   "metadata": {},
   "outputs": [],
   "source": [
    "# pd.set_option(\"display.max_rows\", None)\n",
    "# pd.reset_option(\"display.max_rows\")"
   ]
  },
  {
   "cell_type": "code",
   "execution_count": null,
   "id": "loaded-split",
   "metadata": {},
   "outputs": [],
   "source": [
    "WORKSPACE_ID = config.WORKSPACE_ID\n",
    "USER_ID = config.USER_ID\n",
    "TOKEN_VALUE = config.TOKEN_VALUE\n",
    "API_KEY = config.API_KEY\n",
    "API_SECRET = config.API_SECRET"
   ]
  },
  {
   "cell_type": "code",
   "execution_count": null,
   "id": "automated-norway",
   "metadata": {},
   "outputs": [],
   "source": [
    "headers = {\n",
    "    \"workspaceId\": WORKSPACE_ID,\n",
    "    \"userId\": USER_ID,\n",
    "    \"tokenValue\": TOKEN_VALUE,\n",
    "    \"apiKey\": API_KEY,\n",
    "    \"apiSecret\": API_SECRET,\n",
    "}"
   ]
  },
  {
   "cell_type": "markdown",
   "id": "considerable-relative",
   "metadata": {},
   "source": [
    "# Get location heirarchy"
   ]
  },
  {
   "cell_type": "code",
   "execution_count": null,
   "id": "sharp-prayer",
   "metadata": {},
   "outputs": [],
   "source": [
    "url = \"https://server.itemit.com/collections/itemit/v2.0/locations/hierarchy\"\n",
    "\n",
    "payload = {}\n",
    "\n",
    "response = requests.request(\"GET\", url, headers=headers, data=payload)"
   ]
  },
  {
   "cell_type": "code",
   "execution_count": null,
   "id": "based-episode",
   "metadata": {},
   "outputs": [],
   "source": [
    "locations = response.json()"
   ]
  },
  {
   "cell_type": "code",
   "execution_count": null,
   "id": "alternative-ladder",
   "metadata": {},
   "outputs": [],
   "source": [
    "pprint(locations[0][\"nodes\"])"
   ]
  },
  {
   "cell_type": "code",
   "execution_count": null,
   "id": "decreased-classroom",
   "metadata": {},
   "outputs": [],
   "source": [
    "location_list = []\n",
    "for location in locations:\n",
    "    location_list.append(location[\"location\"][\"name\"])\n",
    "    if location[\"nodes\"]:\n",
    "        for node in location[\"nodes\"]:\n",
    "            location_list.append(node[\"location\"][\"name\"])\n",
    "# location_list"
   ]
  },
  {
   "cell_type": "code",
   "execution_count": null,
   "id": "posted-scene",
   "metadata": {},
   "outputs": [],
   "source": [
    "loc_map = {\n",
    "    \"*West-Forvie Building\": \"WFB\",\n",
    "    \"Box Storage Room\": \"WFB\",\n",
    "    \"Goods In\": \"WFB\",\n",
    "    \"Overflow\": \"WFB\",\n",
    "    \"Production Lines\": \"WFB\",\n",
    "    \"Anne McLaren Building\": \"AMB\",\n",
    "    \"CUED Pod\": None,\n",
    "    \"Christs College\": \"Colleges\",\n",
    "    \"Churchill College\": \"Colleges\",\n",
    "    \"Clare College\": \"Colleges\",\n",
    "    \"Clare Colony\": \"Colleges\",\n",
    "    \"Clare Hall\": \"Colleges\",\n",
    "    \"Corpus Christi Main Plodge\": \"Colleges\",\n",
    "    \"Corpus Leckhampton\": \"Colleges\",\n",
    "    \"Damaged\": None,\n",
    "    \"Darwin College\": \"Colleges\",\n",
    "    \"Downing Main Plodge\": \"Colleges\",\n",
    "    \"Drop-Off Pods\": \"DO\",\n",
    "    \"Engineering Pod\": \"DO\",\n",
    "    \"Homerton Pod\": \"DO\",\n",
    "    \"Jesus Pod\": \"DO\",\n",
    "    \"Johns Pod\": \"DO\",\n",
    "    \"Newnham Pod\": \"DO\",\n",
    "    \"Wychfield Pod\": \"DO\",\n",
    "    \"Emmanuel Main Plodge\": \"Colleges\",\n",
    "    \"Fitzwilliam College\": \"Colleges\",\n",
    "    \"Girton College\": \"Colleges\",\n",
    "    \"Gonville & Caius College\": \"Colleges\",\n",
    "    \"Homerton Main Plodge\": \"Colleges\",\n",
    "    \"Homterton Pod\": None,\n",
    "    \"Hughes Hall\": \"Colleges\",\n",
    "    \"In Transit\": \"UMS\",\n",
    "    \"In-Transit Paul\": \"UMS\",\n",
    "    \"Jesus College\": \"Colleges\",\n",
    "    \"Kings Main Plodge\": \"Colleges\",\n",
    "    \"Lost\": None,\n",
    "    \"Lucy Cavendish\": \"Colleges\",\n",
    "    \"MBIT\": None,\n",
    "    \"Magdalene College\": \"Colleges\",\n",
    "    \"Murray Edwards College\": \"Colleges\",\n",
    "    \"Newnham College\": \"Colleges\",\n",
    "    \"Pembroke Main Plodge\": \"Colleges\",\n",
    "    \"Peterhouse Main Plodge\": \"Colleges\",\n",
    "    \"Queens Owlstone Croft\": \"Colleges\",\n",
    "    \"Queens' College\": \"Colleges\",\n",
    "    \"Ridley Hall\": \"Colleges\",\n",
    "    \"Robinson College\": \"Colleges\",\n",
    "    \"Selwyn College\": \"Colleges\",\n",
    "    \"Sidney Sussex College\": \"Colleges\",\n",
    "    \"St Catherine’s Main Plodge\": \"Colleges\",\n",
    "    \"St Catherine’s St Chads\": \"Colleges\",\n",
    "    \"St Edmunds College\": \"Colleges\",\n",
    "    \"St Johns College\": \"Colleges\",\n",
    "    \"Test Site\": None,\n",
    "    \"Trinity College\": \"Colleges\",\n",
    "    \"Trinity Hall\": \"Colleges\",\n",
    "    \"Wesley House\": \"Colleges\",\n",
    "    \"Westcot House\": \"Colleges\",\n",
    "    \"Westfield House\": \"Colleges\",\n",
    "    \"Westminster College\": \"Colleges\",\n",
    "    \"Wolfson College\": \"Colleges\",\n",
    "}\n",
    "\n",
    "assert sorted(location_list) == sorted(\n",
    "    loc_map.keys()\n",
    "), \"Location map values do not match heirarchy from API\""
   ]
  },
  {
   "cell_type": "markdown",
   "id": "equal-budapest",
   "metadata": {},
   "source": [
    "## Get number of box items"
   ]
  },
  {
   "cell_type": "code",
   "execution_count": null,
   "id": "possible-federation",
   "metadata": {},
   "outputs": [],
   "source": [
    "url = \"https://server.itemit.com/items/itemit/v4/count\"\n",
    "\n",
    "filters = {\n",
    "    \"allOf\": [\n",
    "        {\n",
    "            \"anyOf\": [\n",
    "                {\n",
    "                    \"where\": \"COLLECTION\",\n",
    "                    \"has\": {\"name\": \"Drop-Off Point Box\"},\n",
    "                },\n",
    "                {\n",
    "                    \"where\": \"COLLECTION\",\n",
    "                    \"has\": {\"name\": \"Delivery Box - Red\"},\n",
    "                },\n",
    "            ]\n",
    "        },\n",
    "        {\"allOf\": []},\n",
    "        {\"noneOf\": []},\n",
    "    ]\n",
    "}\n",
    "\n",
    "payload = {\n",
    "    \"search\": \"\",\n",
    "    \"filters\": filters,\n",
    "    \"sorts\": [],\n",
    "}\n",
    "\n",
    "response = requests.request(\"POST\", url, headers=headers, data=json.dumps(payload))"
   ]
  },
  {
   "cell_type": "code",
   "execution_count": null,
   "id": "super-damage",
   "metadata": {},
   "outputs": [],
   "source": [
    "size = response.json()\n",
    "assert type(size) == int, \"size response should be of type int\""
   ]
  },
  {
   "cell_type": "code",
   "execution_count": null,
   "id": "sealed-panama",
   "metadata": {},
   "outputs": [],
   "source": [
    "print(size)"
   ]
  },
  {
   "cell_type": "markdown",
   "id": "transparent-basics",
   "metadata": {},
   "source": [
    "## Get all box items"
   ]
  },
  {
   "cell_type": "code",
   "execution_count": null,
   "id": "thorough-collective",
   "metadata": {},
   "outputs": [],
   "source": [
    "url = \"https://server.itemit.com/items/itemit/v7/profiles/_search\"\n",
    "\n",
    "sorts = [{\"sort\": \"ITEM\", \"by\": {\"name\": \"ASC\"}}]\n",
    "\n",
    "payload = {\n",
    "    \"size\": size,\n",
    "    \"page\": 1,\n",
    "    \"search\": \"\",\n",
    "    \"filters\": filters,\n",
    "    \"sorts\": sorts,\n",
    "}\n",
    "\n",
    "response = requests.request(\"POST\", url, headers=headers, data=json.dumps(payload))"
   ]
  },
  {
   "cell_type": "code",
   "execution_count": null,
   "id": "pressed-placement",
   "metadata": {},
   "outputs": [],
   "source": [
    "items = response.json()"
   ]
  },
  {
   "cell_type": "code",
   "execution_count": null,
   "id": "confirmed-joyce",
   "metadata": {},
   "outputs": [],
   "source": [
    "pprint(items[0])"
   ]
  },
  {
   "cell_type": "code",
   "execution_count": null,
   "id": "awful-myrtle",
   "metadata": {},
   "outputs": [],
   "source": [
    "item = items[0]\n",
    "\n",
    "pprint(item)"
   ]
  },
  {
   "cell_type": "code",
   "execution_count": null,
   "id": "unlike-instrument",
   "metadata": {},
   "outputs": [],
   "source": [
    "print(\"Current locations of all Drop-Off Point Boxes\\n\".upper())\n",
    "print(\n",
    "    f\"No.\\t{'Box':12s}\\t{'Collection':12s}\\t{'Location':22s}\\t{'Last Seen Time':20s}\\t{'Last Seen By':20s}\"\n",
    ")\n",
    "print(\n",
    "    f\"---\\t{'----':12s}\\t{'--------':12s}\\t{'--------------':20s}\\t{'------------':20s}\"\n",
    ")\n",
    "\n",
    "data = {\n",
    "    \"box\": [],\n",
    "    \"collection\": [],\n",
    "    \"location\": [],\n",
    "    \"last_seen_dt\": [],\n",
    "    \"last_seen_by\": [],\n",
    "    \"last_seen_by_email\": [],\n",
    "}\n",
    "\n",
    "for i, item in enumerate(items):\n",
    "    box = item[\"_source\"][\"name\"]\n",
    "    collection = [\n",
    "        element[\"_source\"][\"name\"]\n",
    "        for element in item[\"parentObjects\"][\"elements\"]\n",
    "        if element[\"_source\"][\"collectionType\"] == \"COLLECTION\"\n",
    "    ]\n",
    "    collection = next(iter(collection), None)\n",
    "\n",
    "    location = [\n",
    "        element[\"_source\"][\"name\"]\n",
    "        for element in item[\"parentObjects\"][\"elements\"]\n",
    "        if element[\"_source\"][\"collectionType\"] == \"LOCATION\"\n",
    "    ]\n",
    "    location = next(iter(location), None)\n",
    "\n",
    "    try:\n",
    "        last_seen_time = item[\"_source\"][\"lastSeen\"][\"datetime\"]\n",
    "        last_seen_time = pd.to_datetime(last_seen_time)\n",
    "    except TypeError:\n",
    "        last_seen_time = None\n",
    "\n",
    "    try:\n",
    "        first_name = item[\"_source\"][\"lastSeen\"][\"_user\"][\"firstName\"]\n",
    "    except TypeError:\n",
    "        first_name = \"\"\n",
    "    try:\n",
    "        last_name = item[\"_source\"][\"lastSeen\"][\"_user\"][\"lastName\"]\n",
    "    except TypeError:\n",
    "        last_name = \"\"\n",
    "    last_seen_by = f\"{first_name} {last_name}\"\n",
    "    last_seen_by = last_seen_by if last_seen_by != \" \" else None\n",
    "\n",
    "    try:\n",
    "        last_seen_by_email = item[\"_source\"][\"lastSeen\"][\"_user\"][\"email\"]\n",
    "    except TypeError:\n",
    "        last_seen_by_email = None\n",
    "\n",
    "    data[\"box\"].append(box)\n",
    "    data[\"collection\"].append(collection)\n",
    "    data[\"location\"].append(location)\n",
    "    data[\"last_seen_dt\"].append(last_seen_time)\n",
    "    data[\"last_seen_by\"].append(last_seen_by)\n",
    "    data[\"last_seen_by_email\"].append(last_seen_by_email)\n",
    "\n",
    "    print(\n",
    "        f\"{i:2d}.\\t{data['box'][i]:12.12s}\\t{str(data['collection'][i]):12.12s}\\t{str(data['location'][i]):22.22s}\\t{str(data['last_seen_dt'][i]):20.20s}\\t{str(data['last_seen_by'][i]):20.20s}\"\n",
    "        #         f\"{i:2d}.\\t{data['box'][i]:12.12s}\\t{data['location'][i]:22.22s}\\t{data['last_seen_dt'][i]:20.20s}\\t{data['last_seen_by'][i]:20.20s}\"\n",
    "    )"
   ]
  },
  {
   "cell_type": "code",
   "execution_count": null,
   "id": "comic-river",
   "metadata": {},
   "outputs": [],
   "source": [
    "df = pd.DataFrame(data)"
   ]
  },
  {
   "cell_type": "code",
   "execution_count": null,
   "id": "constitutional-adams",
   "metadata": {},
   "outputs": [],
   "source": [
    "df.sort_values(\"last_seen_dt\", ascending=False)"
   ]
  },
  {
   "cell_type": "code",
   "execution_count": null,
   "id": "scenic-granny",
   "metadata": {},
   "outputs": [],
   "source": [
    "df[\"id\"] = df[\"box\"].str[:-2]\n",
    "df[\"rota\"] = df[\"box\"].str[-1]\n",
    "df"
   ]
  },
  {
   "cell_type": "markdown",
   "id": "technical-employer",
   "metadata": {},
   "source": [
    "## Map actual location names to schedule location names"
   ]
  },
  {
   "cell_type": "code",
   "execution_count": null,
   "id": "leading-preparation",
   "metadata": {},
   "outputs": [],
   "source": [
    "df[\"loc_curr\"] = df[\"location\"]\n",
    "df[\"loc_curr\"].fillna(\"None\")\n",
    "df[\"loc_curr\"] = df[\"loc_curr\"].map(loc_map).fillna(\"Colleges\")\n",
    "df"
   ]
  },
  {
   "cell_type": "markdown",
   "id": "pregnant-posting",
   "metadata": {},
   "source": [
    "# Excel Schedule"
   ]
  },
  {
   "cell_type": "code",
   "execution_count": null,
   "id": "classified-people",
   "metadata": {},
   "outputs": [],
   "source": [
    "df_boxA = pd.read_excel(\"UMS_Courier_Schedules.xlsx\", sheet_name=\"Box_Group_Lookup\")\n",
    "df_boxB = df_boxA.copy()\n",
    "\n",
    "df_boxA[\"rota\"] = \"A\"\n",
    "df_boxA[\"id\"] = df_boxA[\"Box\"]\n",
    "df_boxA[\"Box\"] = df_boxA[\"Box\"] + \"-\" + df_boxA[\"rota\"]\n",
    "df_boxA[\"Group\"] = df_boxA[\"Group\"] + \"-\" + df_boxA[\"rota\"]\n",
    "\n",
    "df_boxB[\"rota\"] = \"B\"\n",
    "df_boxB[\"id\"] = df_boxB[\"Box\"]\n",
    "df_boxB[\"Box\"] = df_boxB[\"Box\"] + \"-\" + df_boxB[\"rota\"]\n",
    "df_boxB[\"Group\"] = df_boxB[\"Group\"] + \"-\" + df_boxB[\"rota\"]\n",
    "\n",
    "df_box = pd.concat([df_boxA, df_boxB]).sort_values(\"Box\").set_index(\"Box\", drop=True)\n",
    "\n",
    "df_box"
   ]
  },
  {
   "cell_type": "code",
   "execution_count": null,
   "id": "creative-duncan",
   "metadata": {},
   "outputs": [],
   "source": [
    "df_sch = pd.read_excel(\n",
    "    \"UMS_Courier_Schedules.xlsx\", sheet_name=\"Group_Schedule\", index_col=\"Group\"\n",
    ")\n",
    "df_sch"
   ]
  },
  {
   "cell_type": "code",
   "execution_count": null,
   "id": "portuguese-skirt",
   "metadata": {},
   "outputs": [],
   "source": [
    "day = \"Monday-A\"\n",
    "box = \"HO-1-A\"\n",
    "\n",
    "group = df_box.loc[box, \"Group\"]\n",
    "\n",
    "\n",
    "df_sch.loc[group, day]"
   ]
  },
  {
   "cell_type": "code",
   "execution_count": null,
   "id": "numeric-baker",
   "metadata": {},
   "outputs": [],
   "source": [
    "days = df_sch.columns.to_list()\n",
    "boxes = df_box.index.to_list()\n",
    "\n",
    "from typing import List\n",
    "\n",
    "\n",
    "def get_expected_location(boxes: List[str], days: str) -> pd.DataFrame:\n",
    "    \"\"\"\n",
    "    Gets expected location of boxes at the end of days\n",
    "\n",
    "    Params\n",
    "    ------\n",
    "    box: List[str]\n",
    "        - list of boxes\n",
    "    day: str\n",
    "        - day\n",
    "\n",
    "    Returns\n",
    "    -------\n",
    "    pd.DataFrame\n",
    "\n",
    "    \"\"\"\n",
    "    group = df_box.loc[boxes, \"Group\"]\n",
    "    df_out = df_sch.loc[group, [days]]\n",
    "    df_out[\"Box\"] = boxes\n",
    "    df_out = df_out.set_index(\"Box\", drop=True)\n",
    "    df_out = df_out.rename(columns={f\"{days}\": \"loc_exp\"})\n",
    "    return df_out\n",
    "\n",
    "\n",
    "# get_expected_location(box=boxes[0:2], day=days[0:2])\n",
    "# get_expected_location(boxes=['HO-1-A', 'HO-1-B', 'W-1-A'], days=days[0:2])\n",
    "get_expected_location([\"HO-1-A\"], \"Sunday-B\")"
   ]
  },
  {
   "cell_type": "code",
   "execution_count": null,
   "id": "portable-rally",
   "metadata": {},
   "outputs": [],
   "source": [
    "# boxes = ['HO-1-B']\n",
    "day = \"Sunday-B\"\n",
    "\n",
    "df_exp = get_expected_location(boxes, day)\n",
    "\n",
    "df_act = df.loc[df[\"box\"].isin(boxes), [\"box\", \"location\", \"loc_curr\", \"last_seen_dt\"]]\n",
    "\n",
    "df_locations = pd.merge(df_act, df_exp, left_on=\"box\", right_index=True).set_index(\n",
    "    \"box\", drop=True\n",
    ")\n",
    "df_locations[\"location_is_correct\"] = (\n",
    "    df_locations[\"loc_curr\"] == df_locations[\"loc_exp\"]\n",
    ")\n",
    "\n",
    "df_locations[~df_locations[\"location_is_correct\"]]"
   ]
  },
  {
   "cell_type": "code",
   "execution_count": null,
   "id": "dedicated-transportation",
   "metadata": {},
   "outputs": [],
   "source": [
    "pd.set_option(\"display.max_rows\", None)\n",
    "df_locations.sort_values(\n",
    "    [\"location_is_correct\", \"last_seen_dt\", \"loc_curr\", \"location\"]\n",
    ")\n",
    "# pd.reset_option(\"display.max_rows\")"
   ]
  }
 ],
 "metadata": {
  "kernelspec": {
   "display_name": "Python 3",
   "language": "python",
   "name": "python3"
  },
  "language_info": {
   "codemirror_mode": {
    "name": "ipython",
    "version": 3
   },
   "file_extension": ".py",
   "mimetype": "text/x-python",
   "name": "python",
   "nbconvert_exporter": "python",
   "pygments_lexer": "ipython3",
   "version": "3.9.1"
  }
 },
 "nbformat": 4,
 "nbformat_minor": 5
}
