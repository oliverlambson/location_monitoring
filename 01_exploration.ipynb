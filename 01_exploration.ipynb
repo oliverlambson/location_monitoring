{
 "cells": [
  {
   "cell_type": "code",
   "execution_count": null,
   "id": "natural-taiwan",
   "metadata": {},
   "outputs": [],
   "source": [
    "import json\n",
    "from pprint import pprint\n",
    "\n",
    "import pandas\n",
    "import requests\n",
    "\n",
    "import config"
   ]
  },
  {
   "cell_type": "code",
   "execution_count": null,
   "id": "material-integer",
   "metadata": {},
   "outputs": [],
   "source": [
    "WORKSPACE_ID = config.WORKSPACE_ID\n",
    "USER_ID = config.USER_ID\n",
    "TOKEN_VALUE = config.TOKEN_VALUE\n",
    "API_KEY = config.API_KEY\n",
    "API_SECRET = config.API_SECRET"
   ]
  },
  {
   "cell_type": "code",
   "execution_count": null,
   "id": "potential-growth",
   "metadata": {},
   "outputs": [],
   "source": [
    "headers = {\n",
    "    \"workspaceId\": WORKSPACE_ID,\n",
    "    \"userId\": USER_ID,\n",
    "    \"tokenValue\": TOKEN_VALUE,\n",
    "    \"apiKey\": API_KEY,\n",
    "    \"apiSecret\": API_SECRET,\n",
    "}"
   ]
  },
  {
   "cell_type": "markdown",
   "id": "assigned-textbook",
   "metadata": {},
   "source": [
    "## Get number of box items"
   ]
  },
  {
   "cell_type": "code",
   "execution_count": null,
   "id": "typical-bouquet",
   "metadata": {},
   "outputs": [],
   "source": [
    "url = \"https://server.itemit.com/items/itemit/v4/count\"\n",
    "\n",
    "filters = {\n",
    "    \"allOf\": [\n",
    "        {\"anyOf\": [{\"where\": \"COLLECTION\", \"has\": {\"name\": \"Drop-Off Point Box\"}}]},\n",
    "        {\"allOf\": []},\n",
    "        {\"noneOf\": []},\n",
    "    ]\n",
    "}\n",
    "\n",
    "payload = {\n",
    "    \"search\": \"\",\n",
    "    \"filters\": filters,\n",
    "    \"sorts\": [],\n",
    "}\n",
    "\n",
    "response = requests.request(\"POST\", url, headers=headers, data=json.dumps(payload))"
   ]
  },
  {
   "cell_type": "code",
   "execution_count": null,
   "id": "mineral-pharmacology",
   "metadata": {},
   "outputs": [],
   "source": [
    "size = response.json()\n",
    "assert type(size) == int, \"size response should be of type int\""
   ]
  },
  {
   "cell_type": "code",
   "execution_count": null,
   "id": "weekly-allergy",
   "metadata": {},
   "outputs": [],
   "source": [
    "print(size)"
   ]
  },
  {
   "cell_type": "markdown",
   "id": "sitting-techno",
   "metadata": {},
   "source": [
    "## Get all box items"
   ]
  },
  {
   "cell_type": "code",
   "execution_count": null,
   "id": "solved-polyester",
   "metadata": {},
   "outputs": [],
   "source": [
    "url = \"https://server.itemit.com/items/itemit/v7/profiles/_search\"\n",
    "\n",
    "sorts = [{\"sort\": \"ITEM\", \"by\": {\"name\": \"ASC\"}}]\n",
    "\n",
    "payload = {\n",
    "    \"size\": size,\n",
    "    \"page\": 1,\n",
    "    \"search\": \"\",\n",
    "    \"filters\": filters,\n",
    "    \"sorts\": sorts,\n",
    "}\n",
    "\n",
    "response = requests.request(\"POST\", url, headers=headers, data=json.dumps(payload))"
   ]
  },
  {
   "cell_type": "code",
   "execution_count": null,
   "id": "empty-hampton",
   "metadata": {},
   "outputs": [],
   "source": [
    "items = response.json()"
   ]
  },
  {
   "cell_type": "code",
   "execution_count": null,
   "id": "sticky-crash",
   "metadata": {},
   "outputs": [],
   "source": [
    "pprint(items[0])"
   ]
  },
  {
   "cell_type": "code",
   "execution_count": null,
   "id": "choice-density",
   "metadata": {},
   "outputs": [],
   "source": [
    "print(\"Current locations of all Drop-Off Point Boxes\\n\".upper())\n",
    "print(f\"No.\\t{'Name':12s}\\tLocation\")\n",
    "print(f\"---\\t{'----':12s}\\t--------\")\n",
    "for i, item in enumerate(items):\n",
    "    print(f'{i:2d}.\\t{item[\"_source\"][\"name\"]:12s}\\t{item[\"parentObjects\"][\"elements\"][0][\"_source\"][\"name\"]}')"
   ]
  }
 ],
 "metadata": {
  "kernelspec": {
   "display_name": "Python 3",
   "language": "python",
   "name": "python3"
  },
  "language_info": {
   "codemirror_mode": {
    "name": "ipython",
    "version": 3
   },
   "file_extension": ".py",
   "mimetype": "text/x-python",
   "name": "python",
   "nbconvert_exporter": "python",
   "pygments_lexer": "ipython3",
   "version": "3.9.1"
  }
 },
 "nbformat": 4,
 "nbformat_minor": 5
}
